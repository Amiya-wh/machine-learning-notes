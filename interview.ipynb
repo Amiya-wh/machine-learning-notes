{
 "cells": [
  {
   "cell_type": "markdown",
   "metadata": {},
   "source": [
    "# 面试准备\n",
    "\n",
    "### 什么是Dropout，具体实现？\n",
    "\n",
    "\n",
    "### 什么是RNN？RNN单元之间如何连接？\n",
    "\n",
    "\n",
    "### LSTM内部结构，具体实现？\n",
    "\n",
    "\n",
    "### 什么是长依赖问题，LSTM如何避免，长依赖和梯度消失有什么关系？\n",
    "\n",
    "\n",
    "### GRU和LSTM比较\n",
    "\n",
    "\n",
    "### Batch Normalization的目的和意义"
   ]
  }
 ],
 "metadata": {
  "kernelspec": {
   "display_name": "Python 3",
   "language": "python",
   "name": "python3"
  },
  "language_info": {
   "codemirror_mode": {
    "name": "ipython",
    "version": 3
   },
   "file_extension": ".py",
   "mimetype": "text/x-python",
   "name": "python",
   "nbconvert_exporter": "python",
   "pygments_lexer": "ipython3",
   "version": "3.5.4"
  }
 },
 "nbformat": 4,
 "nbformat_minor": 2
}
