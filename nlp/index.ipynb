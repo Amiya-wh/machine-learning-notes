{
 "cells": [
  {
   "cell_type": "markdown",
   "metadata": {},
   "source": [
    "## nlp基础\n",
    "\n",
    "\n",
    "目录：\n",
    "\n",
    "\n",
    "* [切词](segmentation.ipynb)\n",
    "* [embeddings](embeddings.ipynb)\n",
    "* [attention](attention.ipynb)\n",
    "* [seq2seq](seq2seq.ipynb)\n",
    "* [transformer](transformer.ipynb)\n",
    "* [bert](bert.ipynb)\n",
    "* [bert-based](bert_based.ipynb)\n",
    "* [tensorrt](tensorrt.ipynb)\n",
    "* [ner](ner.ipynb)\n",
    "* [keywords extraction](keywords_extraction.ipynb)\n",
    "* [matching](matching.ipynb)"
   ]
  },
  {
   "cell_type": "markdown",
   "metadata": {},
   "source": [
    "## 搜索"
   ]
  },
  {
   "cell_type": "markdown",
   "metadata": {},
   "source": [
    "## 推荐\n",
    "\n",
    "\n",
    "### FM\n",
    "\n",
    "\n",
    "\n",
    "### DeepFM\n",
    "\n",
    "\n",
    "\n",
    "### Wide&Deep\n",
    "\n"
   ]
  },
  {
   "cell_type": "markdown",
   "metadata": {},
   "source": [
    "## 算法"
   ]
  },
  {
   "cell_type": "markdown",
   "metadata": {},
   "source": [
    "## Java基础"
   ]
  },
  {
   "cell_type": "markdown",
   "metadata": {},
   "source": [
    "## Python基础"
   ]
  },
  {
   "cell_type": "code",
   "execution_count": null,
   "metadata": {},
   "outputs": [],
   "source": []
  }
 ],
 "metadata": {
  "kernelspec": {
   "display_name": "Python [conda env:machine-learning-notes] *",
   "language": "python",
   "name": "conda-env-machine-learning-notes-py"
  },
  "language_info": {
   "codemirror_mode": {
    "name": "ipython",
    "version": 3
   },
   "file_extension": ".py",
   "mimetype": "text/x-python",
   "name": "python",
   "nbconvert_exporter": "python",
   "pygments_lexer": "ipython3",
   "version": "3.6.10"
  }
 },
 "nbformat": 4,
 "nbformat_minor": 4
}
